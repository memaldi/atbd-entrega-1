{
 "cells": [
  {
   "cell_type": "code",
   "execution_count": 17,
   "id": "47769df2-bc31-468f-9ef2-adc44311be5f",
   "metadata": {},
   "outputs": [],
   "source": [
    "import time\n",
    "from pyspark.sql import SparkSession\n",
    "from pyspark.sql import functions as f\n",
    "from datetime import datetime\n",
    "from kafka import KafkaProducer"
   ]
  },
  {
   "cell_type": "code",
   "execution_count": 2,
   "id": "51b5c8d7-bd1f-43ac-8256-0c5ac8f42377",
   "metadata": {},
   "outputs": [],
   "source": [
    "spark = SparkSession.builder.getOrCreate()"
   ]
  },
  {
   "cell_type": "code",
   "execution_count": 3,
   "id": "82727e4c-602d-4c40-b311-4edec383c8c3",
   "metadata": {},
   "outputs": [],
   "source": [
    "# Change this to point to the folder where all the data remains\n",
    "events = spark.read.csv(\"../2019-Dec.csv\", header=True)"
   ]
  },
  {
   "cell_type": "code",
   "execution_count": 4,
   "id": "eae31303-57cb-4fb3-9842-05eecd73a027",
   "metadata": {},
   "outputs": [
    {
     "name": "stdout",
     "output_type": "stream",
     "text": [
      "+-----------------------+----------------+----------+-------------------+-------------+---------+-----+---------+------------------------------------+\n",
      "|event_time             |event_type      |product_id|category_id        |category_code|brand    |price|user_id  |user_session                        |\n",
      "+-----------------------+----------------+----------+-------------------+-------------+---------+-----+---------+------------------------------------+\n",
      "|2019-12-01 00:00:00 UTC|remove_from_cart|5712790   |1487580005268456287|null         |f.o.x    |6.27 |576802932|51d85cb0-897f-48d2-918b-ad63965c12dc|\n",
      "|2019-12-01 00:00:00 UTC|view            |5764655   |1487580005411062629|null         |cnd      |29.05|412120092|8adff31e-2051-4894-9758-224bfa8aec18|\n",
      "|2019-12-01 00:00:02 UTC|cart            |4958      |1487580009471148064|null         |runail   |1.19 |494077766|c99a50e8-2fac-4c4d-89ec-41c05f114554|\n",
      "|2019-12-01 00:00:05 UTC|view            |5848413   |1487580007675986893|null         |freedecor|0.79 |348405118|722ffea5-73c0-4924-8e8f-371ff8031af4|\n",
      "|2019-12-01 00:00:07 UTC|view            |5824148   |1487580005511725929|null         |null     |5.56 |576005683|28172809-7e4a-45ce-bab0-5efa90117cd5|\n",
      "|2019-12-01 00:00:09 UTC|view            |5773361   |1487580005134238553|null         |runail   |2.62 |560109803|38cf4ba1-4a0a-4c9e-b870-46685d105f95|\n",
      "|2019-12-01 00:00:18 UTC|cart            |5629988   |1487580009311764506|null         |null     |1.19 |579966747|1512be50-d0fd-4a92-bcd8-3ea3943f2a3b|\n",
      "|2019-12-01 00:00:22 UTC|view            |5807805   |1487580005713052531|null         |ingarden |4.44 |576005683|28172809-7e4a-45ce-bab0-5efa90117cd5|\n",
      "|2019-12-01 00:00:27 UTC|view            |5588608   |1487580008145748965|null         |roubloff |5.40 |546170008|676d9fcc-2a4f-4448-b49d-136f2e4208c1|\n",
      "|2019-12-01 00:00:34 UTC|cart            |5335      |1487580009605365797|null         |runail   |0.40 |494077766|c99a50e8-2fac-4c4d-89ec-41c05f114554|\n",
      "|2019-12-01 00:00:40 UTC|cart            |5755170   |1487580009387261981|null         |null     |2.79 |579751441|8de492d7-0937-47ae-be2c-a7615aec2b0d|\n",
      "|2019-12-01 00:00:44 UTC|remove_from_cart|5650294   |1487580007835370453|null         |metzger  |3.33 |576802932|51d85cb0-897f-48d2-918b-ad63965c12dc|\n",
      "|2019-12-01 00:00:45 UTC|cart            |5755170   |1487580009387261981|null         |null     |2.79 |579751441|8de492d7-0937-47ae-be2c-a7615aec2b0d|\n",
      "|2019-12-01 00:00:46 UTC|remove_from_cart|5692261   |1487580007835370453|null         |staleks  |6.35 |576802932|51d85cb0-897f-48d2-918b-ad63965c12dc|\n",
      "|2019-12-01 00:00:46 UTC|view            |5798929   |1783999068909863670|null         |zinger   |6.19 |579966747|1512be50-d0fd-4a92-bcd8-3ea3943f2a3b|\n",
      "|2019-12-01 00:00:46 UTC|cart            |5755170   |1487580009387261981|null         |null     |2.79 |579751441|8de492d7-0937-47ae-be2c-a7615aec2b0d|\n",
      "|2019-12-01 00:00:49 UTC|remove_from_cart|5694628   |1487580007835370453|null         |yoko     |3.65 |576802932|51d85cb0-897f-48d2-918b-ad63965c12dc|\n",
      "|2019-12-01 00:00:50 UTC|view            |3936      |1487580005343953762|null         |entity   |10.95|579969717|006dd2fb-ae1e-4461-985a-d4e70ca64543|\n",
      "|2019-12-01 00:00:52 UTC|cart            |5761411   |1487580007432717250|null         |ingarden |2.86 |494077766|c99a50e8-2fac-4c4d-89ec-41c05f114554|\n",
      "|2019-12-01 00:00:58 UTC|cart            |5761411   |1487580007432717250|null         |ingarden |2.86 |494077766|c99a50e8-2fac-4c4d-89ec-41c05f114554|\n",
      "+-----------------------+----------------+----------+-------------------+-------------+---------+-----+---------+------------------------------------+\n",
      "only showing top 20 rows\n",
      "\n"
     ]
    }
   ],
   "source": [
    "events.show(truncate=False)"
   ]
  },
  {
   "cell_type": "code",
   "execution_count": 5,
   "id": "8b9582d5-70b3-40bb-85fd-d969d4b393f0",
   "metadata": {},
   "outputs": [],
   "source": [
    "first_event = datetime.strptime(events.select(\"event_time\").sort(\"event_time\").first().event_time, \"%Y-%m-%d %H:%M:%S %Z\")"
   ]
  },
  {
   "cell_type": "code",
   "execution_count": 6,
   "id": "51fd121e-72e4-4363-8c40-bd4767986dd7",
   "metadata": {},
   "outputs": [],
   "source": [
    "substract_date = f.udf(lambda event_time: (datetime.strptime(event_time, \"%Y-%m-%d %H:%M:%S %Z\") - first_event).seconds)"
   ]
  },
  {
   "cell_type": "code",
   "execution_count": 11,
   "id": "1c788a49-cb6c-4389-8724-9f3d4f843632",
   "metadata": {},
   "outputs": [],
   "source": [
    "events_with_delta = events.withColumn(\"delta\", substract_date(events.event_time))"
   ]
  },
  {
   "cell_type": "code",
   "execution_count": 25,
   "id": "73e9a53a-7f2a-4893-9aef-1e68fd26e453",
   "metadata": {},
   "outputs": [],
   "source": [
    "current_delta = 0"
   ]
  },
  {
   "cell_type": "code",
   "execution_count": 26,
   "id": "af8c6082-5432-46a5-ad98-fb38b6114d7a",
   "metadata": {},
   "outputs": [
    {
     "name": "stdout",
     "output_type": "stream",
     "text": [
      "Current delta: 0\n",
      "{'event_time': '2023-10-05 10:55:12 UTC', 'event_type': 'remove_from_cart', 'product_id': '5712790', 'category_id': '1487580005268456287', 'brand': 'f.o.x', 'price': '6.27', 'user_id': '576802932', 'user_session': '51d85cb0-897f-48d2-918b-ad63965c12dc'}\n",
      "{'event_time': '2023-10-05 10:55:12 UTC', 'event_type': 'view', 'product_id': '5764655', 'category_id': '1487580005411062629', 'brand': 'cnd', 'price': '29.05', 'user_id': '412120092', 'user_session': '8adff31e-2051-4894-9758-224bfa8aec18'}\n",
      "{'event_time': '2023-10-05 10:55:12 UTC', 'event_type': 'cart', 'product_id': '5856183', 'category_id': '1487580010645553231', 'brand': 'runail', 'price': '6.27', 'user_id': '581705264', 'user_session': '1e7bf725-6c18-4c77-a21c-881380bf630b'}\n",
      "{'event_time': '2023-10-05 10:55:12 UTC', 'event_type': 'view', 'product_id': '5853532', 'category_id': '1487580005050352469', 'brand': 'haruyama', 'price': '3.97', 'user_id': '339319337', 'user_session': '5f2fb254-3b61-47d1-8c00-f3a3ff2a792c'}\n",
      "{'event_time': '2023-10-05 10:55:12 UTC', 'event_type': 'view', 'product_id': '5884211', 'category_id': '1487580005092295511', 'brand': None, 'price': '10.63', 'user_id': '582139498', 'user_session': '03fe4104-595f-481e-a537-ef054f9443ae'}\n",
      "{'event_time': '2023-10-05 10:55:12 UTC', 'event_type': 'remove_from_cart', 'product_id': '5900646', 'category_id': '1487580005713052531', 'brand': 'ingarden', 'price': '4.44', 'user_id': '545950836', 'user_session': '2b0adaf0-a950-4165-b9be-7db2a8b90cf4'}\n",
      "{'event_time': '2023-10-05 10:55:12 UTC', 'event_type': 'view', 'product_id': '5837290', 'category_id': '1487580007675986893', 'brand': 'bpw.style', 'price': '0.79', 'user_id': '585056424', 'user_session': 'c056690c-1670-40ae-81d6-ef3465ec66ea'}\n",
      "{'event_time': '2023-10-05 10:55:12 UTC', 'event_type': 'view', 'product_id': '5901625', 'category_id': '1487580007675986893', 'brand': 'freedecor', 'price': '2.38', 'user_id': '463548559', 'user_session': '20f3f3e3-0dda-67aa-6709-7ef9390cf1a1'}\n",
      "{'event_time': '2023-10-05 10:55:12 UTC', 'event_type': 'view', 'product_id': '5857680', 'category_id': '1487580005092295511', 'brand': 'artex', 'price': '15.08', 'user_id': '439452657', 'user_session': '5455f2ba-a0e8-41c9-b044-c6348c9a5027'}\n",
      "{'event_time': '2023-10-05 10:55:12 UTC', 'event_type': 'view', 'product_id': '5877485', 'category_id': '1998040849203594085', 'brand': 'freedecor', 'price': '11.11', 'user_id': '492950511', 'user_session': '7597d279-5440-414f-8e3d-e384275bc625'}\n",
      "{'event_time': '2023-10-05 10:55:12 UTC', 'event_type': 'view', 'product_id': '5876792', 'category_id': '1487580010100293687', 'brand': 'jessnail', 'price': '0.94', 'user_id': '584555915', 'user_session': '5baf99c7-955b-4564-b33a-e4ea00077af0'}\n",
      "{'event_time': '2023-10-05 10:55:12 UTC', 'event_type': 'view', 'product_id': '5849716', 'category_id': '1783999063314661546', 'brand': 'bluesky', 'price': '3.97', 'user_id': '589085471', 'user_session': '013aab75-2db8-4665-96cd-24cee050c5b2'}\n",
      "{'event_time': '2023-10-05 10:55:12 UTC', 'event_type': 'view', 'product_id': '5809912', 'category_id': '1602943681873052386', 'brand': 'grattol', 'price': '5.24', 'user_id': '587545720', 'user_session': '02c3ae1d-b46c-48e7-88bb-0ecd40bd4d5f'}\n",
      "{'event_time': '2023-10-05 10:55:12 UTC', 'event_type': 'view', 'product_id': '5712793', 'category_id': '1487580009286598681', 'brand': 'f.o.x', 'price': '3.17', 'user_id': '453928889', 'user_session': 'f0a73a4f-fd6a-4424-b805-a645e14cec66'}\n",
      "Current delta: 1\n",
      "{'event_time': '2023-10-05 10:55:17 UTC', 'event_type': 'view', 'product_id': '5813886', 'category_id': '1842735758805303837', 'brand': 'beauty-free', 'price': '2.37', 'user_id': '313197060', 'user_session': '14b0a8f6-1f87-4d41-8042-ad5a525e8ee3'}\n",
      "{'event_time': '2023-10-05 10:55:17 UTC', 'event_type': 'cart', 'product_id': '5766979', 'category_id': '1487580013069861041', 'brand': 'italwax', 'price': '18.25', 'user_id': '577362040', 'user_session': 'e0c3849c-fe1f-0422-53c6-f7837a57ecfa'}\n",
      "{'event_time': '2023-10-05 10:55:17 UTC', 'event_type': 'remove_from_cart', 'product_id': '5900646', 'category_id': '1487580005713052531', 'brand': 'ingarden', 'price': '4.44', 'user_id': '545950836', 'user_session': '2b0adaf0-a950-4165-b9be-7db2a8b90cf4'}\n",
      "{'event_time': '2023-10-05 10:55:17 UTC', 'event_type': 'remove_from_cart', 'product_id': '5833332', 'category_id': '1487580007675986893', 'brand': 'bpw.style', 'price': '1.27', 'user_id': '525173238', 'user_session': '9cdc984f-0547-4d61-87ff-a02975bd7c03'}\n",
      "{'event_time': '2023-10-05 10:55:17 UTC', 'event_type': 'view', 'product_id': '5862561', 'category_id': '1487580008145748965', 'brand': 'roubloff', 'price': '1.78', 'user_id': '509021442', 'user_session': '6b81f7ed-8c5f-40e0-a796-d60356262fc7'}\n",
      "{'event_time': '2023-10-05 10:55:17 UTC', 'event_type': 'cart', 'product_id': '5886722', 'category_id': '1487580005067129686', 'brand': None, 'price': '2.38', 'user_id': '540069490', 'user_session': '9c94f0ff-994b-4510-9453-417c0253b622'}\n",
      "{'event_time': '2023-10-05 10:55:17 UTC', 'event_type': 'remove_from_cart', 'product_id': '5650627', 'category_id': '1487580008263189483', 'brand': 'concept', 'price': '5.71', 'user_id': '574884767', 'user_session': '2a18ecbd-35a8-4b25-b911-2cababb59f57'}\n",
      "{'event_time': '2023-10-05 10:55:17 UTC', 'event_type': 'remove_from_cart', 'product_id': '5650627', 'category_id': '1487580008263189483', 'brand': 'concept', 'price': '5.71', 'user_id': '574884767', 'user_session': '2a18ecbd-35a8-4b25-b911-2cababb59f57'}\n",
      "{'event_time': '2023-10-05 10:55:17 UTC', 'event_type': 'remove_from_cart', 'product_id': '5760529', 'category_id': '1487580011585077370', 'brand': None, 'price': '1.59', 'user_id': '471889801', 'user_session': '9d186389-7616-49ed-b5fb-382b31913f9e'}\n",
      "{'event_time': '2023-10-05 10:55:17 UTC', 'event_type': 'view', 'product_id': '5789669', 'category_id': '1487580005595612013', 'brand': None, 'price': '3.16', 'user_id': '590524266', 'user_session': 'ef5f7351-af70-40a3-a8a9-f11c08ebb839'}\n",
      "{'event_time': '2023-10-05 10:55:17 UTC', 'event_type': 'view', 'product_id': '5838939', 'category_id': '1487580005713052531', 'brand': 'ingarden', 'price': '4.44', 'user_id': '555444394', 'user_session': '16f211dc-7edf-4b04-ba53-182651597bd1'}\n",
      "{'event_time': '2023-10-05 10:55:17 UTC', 'event_type': 'view', 'product_id': '5827480', 'category_id': '1487580010242900029', 'brand': 'estel', 'price': '5.56', 'user_id': '372520842', 'user_session': '33ab0dd1-fad7-4847-8457-17e072c7cfc1'}\n",
      "Current delta: 2\n",
      "{'event_time': '2023-10-05 10:55:23 UTC', 'event_type': 'cart', 'product_id': '4958', 'category_id': '1487580009471148064', 'brand': 'runail', 'price': '1.19', 'user_id': '494077766', 'user_session': 'c99a50e8-2fac-4c4d-89ec-41c05f114554'}\n",
      "{'event_time': '2023-10-05 10:55:23 UTC', 'event_type': 'view', 'product_id': '89343', 'category_id': '2193074740619379535', 'brand': None, 'price': '299.81', 'user_id': '582200091', 'user_session': '5c46f9c0-7c0b-496b-8d62-d67f1ef10f5d'}\n",
      "{'event_time': '2023-10-05 10:55:23 UTC', 'event_type': 'remove_from_cart', 'product_id': '5838935', 'category_id': '1487580005713052531', 'brand': 'ingarden', 'price': '4.44', 'user_id': '545950836', 'user_session': '2b0adaf0-a950-4165-b9be-7db2a8b90cf4'}\n",
      "{'event_time': '2023-10-05 10:55:23 UTC', 'event_type': 'remove_from_cart', 'product_id': '5838935', 'category_id': '1487580005713052531', 'brand': 'ingarden', 'price': '4.44', 'user_id': '545950836', 'user_session': '2b0adaf0-a950-4165-b9be-7db2a8b90cf4'}\n",
      "{'event_time': '2023-10-05 10:55:23 UTC', 'event_type': 'view', 'product_id': '5891512', 'category_id': '1487580009202712597', 'brand': None, 'price': '10.79', 'user_id': '584042966', 'user_session': 'bd4d9e43-1533-4df9-9ad8-1b947f685bdd'}\n",
      "{'event_time': '2023-10-05 10:55:23 UTC', 'event_type': 'cart', 'product_id': '5905704', 'category_id': '1487580005092295511', 'brand': None, 'price': '10.63', 'user_id': '263005604', 'user_session': '410dcdba-0520-42da-a9f4-5fc6d7859412'}\n",
      "{'event_time': '2023-10-05 10:55:23 UTC', 'event_type': 'view', 'product_id': '5902676', 'category_id': '1487580012205834384', 'brand': 'naomi', 'price': '9.37', 'user_id': '585056696', 'user_session': '9d1729a0-2f23-4479-a53d-11e0c5868e37'}\n",
      "{'event_time': '2023-10-05 10:55:23 UTC', 'event_type': 'view', 'product_id': '5775783', 'category_id': '1487580011585077370', 'brand': 'shary', 'price': '1.90', 'user_id': '471889801', 'user_session': '1b8758f0-11cd-4bb7-b476-be642b834bac'}\n",
      "{'event_time': '2023-10-05 10:55:23 UTC', 'event_type': 'remove_from_cart', 'product_id': '5914105', 'category_id': '1921723506584715388', 'brand': 'dewal', 'price': '5.10', 'user_id': '564304057', 'user_session': 'd82a6bd5-b56e-4492-83fc-7a75e5540ce8'}\n",
      "{'event_time': '2023-10-05 10:55:23 UTC', 'event_type': 'remove_from_cart', 'product_id': '5914105', 'category_id': '1921723506584715388', 'brand': 'dewal', 'price': '5.10', 'user_id': '564304057', 'user_session': 'd82a6bd5-b56e-4492-83fc-7a75e5540ce8'}\n",
      "{'event_time': '2023-10-05 10:55:23 UTC', 'event_type': 'view', 'product_id': '5749226', 'category_id': '1487580005411062629', 'brand': 'cnd', 'price': '16.03', 'user_id': '510856955', 'user_session': 'e241ee7f-d108-f96e-d620-a0e27eb468df'}\n",
      "{'event_time': '2023-10-05 10:55:23 UTC', 'event_type': 'cart', 'product_id': '5884349', 'category_id': '1487580010561667147', 'brand': 'oniq', 'price': '10.32', 'user_id': '595068367', 'user_session': 'fead2242-beaf-4eb7-8ce0-12a9889e5afc'}\n",
      "Current delta: 3\n",
      "{'event_time': '2023-10-05 10:55:28 UTC', 'event_type': 'view', 'product_id': '5588612', 'category_id': '1487580006317032337', 'brand': 'irisk', 'price': '3.97', 'user_id': '581140271', 'user_session': '751365ad-010e-473c-8890-8592748e1f27'}\n",
      "{'event_time': '2023-10-05 10:55:28 UTC', 'event_type': 'remove_from_cart', 'product_id': '5659749', 'category_id': '1487580007399162817', 'brand': 'irisk', 'price': '0.95', 'user_id': '535940960', 'user_session': 'fc675566-c1cc-546a-1039-6a9e922910f0'}\n",
      "{'event_time': '2023-10-05 10:55:28 UTC', 'event_type': 'view', 'product_id': '5713016', 'category_id': '1487580008011531230', 'brand': 'coifin', 'price': '51.43', 'user_id': '585057948', 'user_session': 'b63c2482-9c9e-4fcd-8bab-cc53f4f89f11'}\n",
      "{'event_time': '2023-10-05 10:55:28 UTC', 'event_type': 'view', 'product_id': '5815662', 'category_id': '1487580006317032337', 'brand': None, 'price': '0.92', 'user_id': '457868417', 'user_session': '08093da5-9274-4091-a74b-a8ff3582d9d3'}\n",
      "{'event_time': '2023-10-05 10:55:28 UTC', 'event_type': 'remove_from_cart', 'product_id': '5665851', 'category_id': '1487580006509970331', 'brand': 'konad', 'price': '1.90', 'user_id': '587043507', 'user_session': 'dd1eaed7-f72f-4de7-b4d2-d63b694ff591'}\n",
      "{'event_time': '2023-10-05 10:55:28 UTC', 'event_type': 'remove_from_cart', 'product_id': '5665851', 'category_id': '1487580006509970331', 'brand': 'konad', 'price': '1.90', 'user_id': '587043507', 'user_session': 'dd1eaed7-f72f-4de7-b4d2-d63b694ff591'}\n",
      "{'event_time': '2023-10-05 10:55:28 UTC', 'event_type': 'view', 'product_id': '5766130', 'category_id': '1487580005268456287', 'brand': None, 'price': '5.56', 'user_id': '586931185', 'user_session': '211d4261-d953-488c-9fa3-913a5a3d66ca'}\n",
      "{'event_time': '2023-10-05 10:55:28 UTC', 'event_type': 'view', 'product_id': '5908259', 'category_id': '1487580007675986893', 'brand': None, 'price': '1.43', 'user_id': '584538682', 'user_session': 'df31b2ff-da06-4e98-b4fa-7de63d4bf688'}\n",
      "Current delta: 4\n"
     ]
    },
    {
     "name": "stderr",
     "output_type": "stream",
     "text": [
      "ERROR:root:KeyboardInterrupt while sending command.\n",
      "Traceback (most recent call last):\n",
      "  File \"/usr/local/spark/python/lib/py4j-0.10.9.7-src.zip/py4j/java_gateway.py\", line 1038, in send_command\n",
      "    response = connection.send_command(command)\n",
      "               ^^^^^^^^^^^^^^^^^^^^^^^^^^^^^^^^\n",
      "  File \"/usr/local/spark/python/lib/py4j-0.10.9.7-src.zip/py4j/clientserver.py\", line 511, in send_command\n",
      "    answer = smart_decode(self.stream.readline()[:-1])\n",
      "                          ^^^^^^^^^^^^^^^^^^^^^^\n",
      "  File \"/opt/conda/lib/python3.11/socket.py\", line 706, in readinto\n",
      "    return self._sock.recv_into(b)\n",
      "           ^^^^^^^^^^^^^^^^^^^^^^^\n",
      "KeyboardInterrupt\n"
     ]
    },
    {
     "ename": "KeyboardInterrupt",
     "evalue": "",
     "output_type": "error",
     "traceback": [
      "\u001b[0;31m---------------------------------------------------------------------------\u001b[0m",
      "\u001b[0;31mKeyboardInterrupt\u001b[0m                         Traceback (most recent call last)",
      "Cell \u001b[0;32mIn[26], line 5\u001b[0m\n\u001b[1;32m      3\u001b[0m current_events \u001b[38;5;241m=\u001b[39m events_with_delta\u001b[38;5;241m.\u001b[39mfilter(events_with_delta\u001b[38;5;241m.\u001b[39mdelta \u001b[38;5;241m==\u001b[39m current_delta)\n\u001b[1;32m      4\u001b[0m current_timestamp \u001b[38;5;241m=\u001b[39m datetime\u001b[38;5;241m.\u001b[39mnow()\n\u001b[0;32m----> 5\u001b[0m \u001b[38;5;28;01mfor\u001b[39;00m event \u001b[38;5;129;01min\u001b[39;00m \u001b[43mcurrent_events\u001b[49m\u001b[38;5;241;43m.\u001b[39;49m\u001b[43mcollect\u001b[49m\u001b[43m(\u001b[49m\u001b[43m)\u001b[49m:\n\u001b[1;32m      6\u001b[0m     json_event \u001b[38;5;241m=\u001b[39m { \u001b[38;5;124m\"\u001b[39m\u001b[38;5;124mevent_time\u001b[39m\u001b[38;5;124m\"\u001b[39m: current_timestamp\u001b[38;5;241m.\u001b[39mstrftime(\u001b[38;5;124m\"\u001b[39m\u001b[38;5;124m%\u001b[39m\u001b[38;5;124mY-\u001b[39m\u001b[38;5;124m%\u001b[39m\u001b[38;5;124mm-\u001b[39m\u001b[38;5;132;01m%d\u001b[39;00m\u001b[38;5;124m \u001b[39m\u001b[38;5;124m%\u001b[39m\u001b[38;5;124mH:\u001b[39m\u001b[38;5;124m%\u001b[39m\u001b[38;5;124mM:\u001b[39m\u001b[38;5;124m%\u001b[39m\u001b[38;5;124mS UTC\u001b[39m\u001b[38;5;124m\"\u001b[39m), \n\u001b[1;32m      7\u001b[0m                   \u001b[38;5;124m\"\u001b[39m\u001b[38;5;124mevent_type\u001b[39m\u001b[38;5;124m\"\u001b[39m: event\u001b[38;5;241m.\u001b[39mevent_type, \n\u001b[1;32m      8\u001b[0m                   \u001b[38;5;124m\"\u001b[39m\u001b[38;5;124mproduct_id\u001b[39m\u001b[38;5;124m\"\u001b[39m: event\u001b[38;5;241m.\u001b[39mproduct_id, \n\u001b[0;32m   (...)\u001b[0m\n\u001b[1;32m     12\u001b[0m                   \u001b[38;5;124m\"\u001b[39m\u001b[38;5;124muser_id\u001b[39m\u001b[38;5;124m\"\u001b[39m: event\u001b[38;5;241m.\u001b[39muser_id,\n\u001b[1;32m     13\u001b[0m                   \u001b[38;5;124m\"\u001b[39m\u001b[38;5;124muser_session\u001b[39m\u001b[38;5;124m\"\u001b[39m: event\u001b[38;5;241m.\u001b[39muser_session}\n\u001b[1;32m     14\u001b[0m     \u001b[38;5;28mprint\u001b[39m(json_event)\n",
      "File \u001b[0;32m/usr/local/spark/python/pyspark/sql/dataframe.py:1216\u001b[0m, in \u001b[0;36mDataFrame.collect\u001b[0;34m(self)\u001b[0m\n\u001b[1;32m   1196\u001b[0m \u001b[38;5;250m\u001b[39m\u001b[38;5;124;03m\"\"\"Returns all the records as a list of :class:`Row`.\u001b[39;00m\n\u001b[1;32m   1197\u001b[0m \n\u001b[1;32m   1198\u001b[0m \u001b[38;5;124;03m.. versionadded:: 1.3.0\u001b[39;00m\n\u001b[0;32m   (...)\u001b[0m\n\u001b[1;32m   1213\u001b[0m \u001b[38;5;124;03m[Row(age=14, name='Tom'), Row(age=23, name='Alice'), Row(age=16, name='Bob')]\u001b[39;00m\n\u001b[1;32m   1214\u001b[0m \u001b[38;5;124;03m\"\"\"\u001b[39;00m\n\u001b[1;32m   1215\u001b[0m \u001b[38;5;28;01mwith\u001b[39;00m SCCallSiteSync(\u001b[38;5;28mself\u001b[39m\u001b[38;5;241m.\u001b[39m_sc):\n\u001b[0;32m-> 1216\u001b[0m     sock_info \u001b[38;5;241m=\u001b[39m \u001b[38;5;28;43mself\u001b[39;49m\u001b[38;5;241;43m.\u001b[39;49m\u001b[43m_jdf\u001b[49m\u001b[38;5;241;43m.\u001b[39;49m\u001b[43mcollectToPython\u001b[49m\u001b[43m(\u001b[49m\u001b[43m)\u001b[49m\n\u001b[1;32m   1217\u001b[0m \u001b[38;5;28;01mreturn\u001b[39;00m \u001b[38;5;28mlist\u001b[39m(_load_from_socket(sock_info, BatchedSerializer(CPickleSerializer())))\n",
      "File \u001b[0;32m/usr/local/spark/python/lib/py4j-0.10.9.7-src.zip/py4j/java_gateway.py:1321\u001b[0m, in \u001b[0;36mJavaMember.__call__\u001b[0;34m(self, *args)\u001b[0m\n\u001b[1;32m   1314\u001b[0m args_command, temp_args \u001b[38;5;241m=\u001b[39m \u001b[38;5;28mself\u001b[39m\u001b[38;5;241m.\u001b[39m_build_args(\u001b[38;5;241m*\u001b[39margs)\n\u001b[1;32m   1316\u001b[0m command \u001b[38;5;241m=\u001b[39m proto\u001b[38;5;241m.\u001b[39mCALL_COMMAND_NAME \u001b[38;5;241m+\u001b[39m\\\n\u001b[1;32m   1317\u001b[0m     \u001b[38;5;28mself\u001b[39m\u001b[38;5;241m.\u001b[39mcommand_header \u001b[38;5;241m+\u001b[39m\\\n\u001b[1;32m   1318\u001b[0m     args_command \u001b[38;5;241m+\u001b[39m\\\n\u001b[1;32m   1319\u001b[0m     proto\u001b[38;5;241m.\u001b[39mEND_COMMAND_PART\n\u001b[0;32m-> 1321\u001b[0m answer \u001b[38;5;241m=\u001b[39m \u001b[38;5;28;43mself\u001b[39;49m\u001b[38;5;241;43m.\u001b[39;49m\u001b[43mgateway_client\u001b[49m\u001b[38;5;241;43m.\u001b[39;49m\u001b[43msend_command\u001b[49m\u001b[43m(\u001b[49m\u001b[43mcommand\u001b[49m\u001b[43m)\u001b[49m\n\u001b[1;32m   1322\u001b[0m return_value \u001b[38;5;241m=\u001b[39m get_return_value(\n\u001b[1;32m   1323\u001b[0m     answer, \u001b[38;5;28mself\u001b[39m\u001b[38;5;241m.\u001b[39mgateway_client, \u001b[38;5;28mself\u001b[39m\u001b[38;5;241m.\u001b[39mtarget_id, \u001b[38;5;28mself\u001b[39m\u001b[38;5;241m.\u001b[39mname)\n\u001b[1;32m   1325\u001b[0m \u001b[38;5;28;01mfor\u001b[39;00m temp_arg \u001b[38;5;129;01min\u001b[39;00m temp_args:\n",
      "File \u001b[0;32m/usr/local/spark/python/lib/py4j-0.10.9.7-src.zip/py4j/java_gateway.py:1038\u001b[0m, in \u001b[0;36mGatewayClient.send_command\u001b[0;34m(self, command, retry, binary)\u001b[0m\n\u001b[1;32m   1036\u001b[0m connection \u001b[38;5;241m=\u001b[39m \u001b[38;5;28mself\u001b[39m\u001b[38;5;241m.\u001b[39m_get_connection()\n\u001b[1;32m   1037\u001b[0m \u001b[38;5;28;01mtry\u001b[39;00m:\n\u001b[0;32m-> 1038\u001b[0m     response \u001b[38;5;241m=\u001b[39m \u001b[43mconnection\u001b[49m\u001b[38;5;241;43m.\u001b[39;49m\u001b[43msend_command\u001b[49m\u001b[43m(\u001b[49m\u001b[43mcommand\u001b[49m\u001b[43m)\u001b[49m\n\u001b[1;32m   1039\u001b[0m     \u001b[38;5;28;01mif\u001b[39;00m binary:\n\u001b[1;32m   1040\u001b[0m         \u001b[38;5;28;01mreturn\u001b[39;00m response, \u001b[38;5;28mself\u001b[39m\u001b[38;5;241m.\u001b[39m_create_connection_guard(connection)\n",
      "File \u001b[0;32m/usr/local/spark/python/lib/py4j-0.10.9.7-src.zip/py4j/clientserver.py:511\u001b[0m, in \u001b[0;36mClientServerConnection.send_command\u001b[0;34m(self, command)\u001b[0m\n\u001b[1;32m    509\u001b[0m \u001b[38;5;28;01mtry\u001b[39;00m:\n\u001b[1;32m    510\u001b[0m     \u001b[38;5;28;01mwhile\u001b[39;00m \u001b[38;5;28;01mTrue\u001b[39;00m:\n\u001b[0;32m--> 511\u001b[0m         answer \u001b[38;5;241m=\u001b[39m smart_decode(\u001b[38;5;28mself\u001b[39m\u001b[38;5;241m.\u001b[39mstream\u001b[38;5;241m.\u001b[39mreadline()[:\u001b[38;5;241m-\u001b[39m\u001b[38;5;241m1\u001b[39m])\n\u001b[1;32m    512\u001b[0m         logger\u001b[38;5;241m.\u001b[39mdebug(\u001b[38;5;124m\"\u001b[39m\u001b[38;5;124mAnswer received: \u001b[39m\u001b[38;5;132;01m{0}\u001b[39;00m\u001b[38;5;124m\"\u001b[39m\u001b[38;5;241m.\u001b[39mformat(answer))\n\u001b[1;32m    513\u001b[0m         \u001b[38;5;66;03m# Happens when a the other end is dead. There might be an empty\u001b[39;00m\n\u001b[1;32m    514\u001b[0m         \u001b[38;5;66;03m# answer before the socket raises an error.\u001b[39;00m\n",
      "File \u001b[0;32m/opt/conda/lib/python3.11/socket.py:706\u001b[0m, in \u001b[0;36mSocketIO.readinto\u001b[0;34m(self, b)\u001b[0m\n\u001b[1;32m    704\u001b[0m \u001b[38;5;28;01mwhile\u001b[39;00m \u001b[38;5;28;01mTrue\u001b[39;00m:\n\u001b[1;32m    705\u001b[0m     \u001b[38;5;28;01mtry\u001b[39;00m:\n\u001b[0;32m--> 706\u001b[0m         \u001b[38;5;28;01mreturn\u001b[39;00m \u001b[38;5;28;43mself\u001b[39;49m\u001b[38;5;241;43m.\u001b[39;49m\u001b[43m_sock\u001b[49m\u001b[38;5;241;43m.\u001b[39;49m\u001b[43mrecv_into\u001b[49m\u001b[43m(\u001b[49m\u001b[43mb\u001b[49m\u001b[43m)\u001b[49m\n\u001b[1;32m    707\u001b[0m     \u001b[38;5;28;01mexcept\u001b[39;00m timeout:\n\u001b[1;32m    708\u001b[0m         \u001b[38;5;28mself\u001b[39m\u001b[38;5;241m.\u001b[39m_timeout_occurred \u001b[38;5;241m=\u001b[39m \u001b[38;5;28;01mTrue\u001b[39;00m\n",
      "\u001b[0;31mKeyboardInterrupt\u001b[0m: "
     ]
    }
   ],
   "source": [
    "producer = KafkaProducer(bootstrap_servers='localhost:9020')\n",
    "\n",
    "while True:\n",
    "    print(\"Current delta: {current_delta}\".format(current_delta=current_delta))\n",
    "    current_events = events_with_delta.filter(events_with_delta.delta == current_delta)\n",
    "    current_timestamp = datetime.now()\n",
    "    for event in current_events.collect():\n",
    "        json_event = { \"event_time\": current_timestamp.strftime(\"%Y-%m-%d %H:%M:%S UTC\"), \n",
    "                      \"event_type\": event.event_type, \n",
    "                      \"product_id\": event.product_id, \n",
    "                      \"category_id\": event.category_id, \n",
    "                      \"brand\": event.brand,\n",
    "                      \"price\": event.price,\n",
    "                      \"user_id\": event.user_id,\n",
    "                      \"user_session\": event.user_session}\n",
    "        # print(json_event)\n",
    "        # Send event by kafka\n",
    "        producer.send('ecommerce-events', json_event)\n",
    "    time.sleep(1)\n",
    "    current_delta += 1"
   ]
  },
  {
   "cell_type": "code",
   "execution_count": null,
   "id": "f9a19ec1-95a2-4c71-b267-aef8d9533690",
   "metadata": {},
   "outputs": [],
   "source": []
  }
 ],
 "metadata": {
  "kernelspec": {
   "display_name": "Python 3 (ipykernel)",
   "language": "python",
   "name": "python3"
  },
  "language_info": {
   "codemirror_mode": {
    "name": "ipython",
    "version": 3
   },
   "file_extension": ".py",
   "mimetype": "text/x-python",
   "name": "python",
   "nbconvert_exporter": "python",
   "pygments_lexer": "ipython3",
   "version": "3.11.4"
  }
 },
 "nbformat": 4,
 "nbformat_minor": 5
}
